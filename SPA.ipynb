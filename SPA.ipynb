{
 "cells": [
  {
   "attachments": {},
   "cell_type": "markdown",
   "metadata": {},
   "source": [
    "### BTVN SPA W3"
   ]
  },
  {
   "attachments": {},
   "cell_type": "markdown",
   "metadata": {},
   "source": [
    "#### Thư viện và nhập ma trận"
   ]
  },
  {
   "cell_type": "code",
   "execution_count": 53,
   "metadata": {},
   "outputs": [],
   "source": [
    "import networkx as nx\n",
    "import numpy as np"
   ]
  },
  {
   "cell_type": "code",
   "execution_count": 54,
   "metadata": {},
   "outputs": [],
   "source": [
    "P =   np.array([[0, 0 , 0, 1, 0],\n",
    "                [0.1, 0.6, 0.2, 0.1, 0],\n",
    "                [0 , 0, 0, 0.09, 0.91],\n",
    "                [0 , 0, 0.3, 0, 0.7],\n",
    "                [0 , 0, 0, 0, 1]])"
   ]
  },
  {
   "attachments": {},
   "cell_type": "markdown",
   "metadata": {},
   "source": [
    "#### Kiểm tra tồn tại đường đi từ i đến j"
   ]
  },
  {
   "cell_type": "code",
   "execution_count": 55,
   "metadata": {},
   "outputs": [],
   "source": [
    "def is_accessible(P, i, j):\n",
    "    visited = set()\n",
    "    stack = [i]\n",
    "    while stack:\n",
    "        state = stack.pop()\n",
    "        if state == j:\n",
    "            return True\n",
    "    \n",
    "        for k in range (len(P)):\n",
    "            if (P[state][k] > 0 and k not in visited):\n",
    "                stack.append(k)\n",
    "                visited.add(k)\n",
    "    return False"
   ]
  },
  {
   "cell_type": "code",
   "execution_count": 56,
   "metadata": {},
   "outputs": [
    {
     "data": {
      "text/plain": [
       "False"
      ]
     },
     "execution_count": 56,
     "metadata": {},
     "output_type": "execute_result"
    }
   ],
   "source": [
    "is_accessible(P, 0, 1)"
   ]
  },
  {
   "attachments": {},
   "cell_type": "markdown",
   "metadata": {},
   "source": [
    "#### Kiểm tra từ một trạng thái có thể đến những trạng thái nào"
   ]
  },
  {
   "cell_type": "code",
   "execution_count": 58,
   "metadata": {},
   "outputs": [],
   "source": [
    "def accessible_states(P, state):\n",
    "    reachable = set()\n",
    "    queue = [state]\n",
    "    while queue:\n",
    "        curr = queue.pop(0)\n",
    "        for next_state, prob in enumerate(P[curr]):\n",
    "            if (prob > 0 and next_state not in reachable):\n",
    "                reachable.add(next_state)\n",
    "                queue.append(next_state)\n",
    "    return reachable"
   ]
  },
  {
   "cell_type": "code",
   "execution_count": 59,
   "metadata": {},
   "outputs": [
    {
     "data": {
      "text/plain": [
       "{2, 3, 4}"
      ]
     },
     "execution_count": 59,
     "metadata": {},
     "output_type": "execute_result"
    }
   ],
   "source": [
    "accessible_states(P, 0)"
   ]
  },
  {
   "attachments": {},
   "cell_type": "markdown",
   "metadata": {},
   "source": [
    "#### Phân hoạch theo tính liên thông và tính chu kỳ"
   ]
  },
  {
   "cell_type": "code",
   "execution_count": 60,
   "metadata": {},
   "outputs": [],
   "source": [
    "def is_connective(P, i, j):\n",
    "    if (is_accessible(P, i, j) and is_accessible(P, j, i)):\n",
    "        return True\n",
    "    return False"
   ]
  },
  {
   "cell_type": "code",
   "execution_count": 72,
   "metadata": {},
   "outputs": [
    {
     "name": "stdout",
     "output_type": "stream",
     "text": [
      "I[0] = [0]\n",
      "\n",
      "I[1] = [1]\n",
      "\n",
      "I[2] = [2, 3]\n",
      "\n",
      "I[3] = [4]\n",
      "\n"
     ]
    }
   ],
   "source": [
    "s = [[i] for i in range (P.shape[0])]\n",
    "\n",
    "for i in range (P.shape[0]):\n",
    "    for j in range (i+1, P.shape[1]):\n",
    "        if (is_connective(P, i, j)): # i != j và i <-> j\n",
    "            s[i].append(j)\n",
    "            s[j] = []\n",
    "\n",
    "for element in s:\n",
    "    if (element == []):\n",
    "        s.remove(element)\n",
    "\n",
    "### Hiển thị các phân hoạch\n",
    "for i in range (len(s)):\n",
    "    if (s[i] != []):\n",
    "        print(f\"I[{i}] = {s[i]}\\n\")"
   ]
  },
  {
   "attachments": {},
   "cell_type": "markdown",
   "metadata": {},
   "source": [
    "##### Tính chu kỳ"
   ]
  },
  {
   "cell_type": "code",
   "execution_count": 62,
   "metadata": {},
   "outputs": [],
   "source": [
    "Q = P\n",
    "def T(Q, i, d):\n",
    "    if (Q[i, i] == 0):\n",
    "        Q = Q @ P \n",
    "        d[i] = d[i] + 1\n",
    "        # Chọn ngưỡng 1e3 để tìm USCLN, bởi nếu sử dụng is_accessible \n",
    "        # mặc định P[i, i] >0, khi đó kết quả không chính xác\n",
    "        if (d[i] > 1e3): \n",
    "            Q = P\n",
    "            return 0\n",
    "        else: \n",
    "            return T(Q, i, d)\n",
    "    else:\n",
    "        Q = P\n",
    "        return d[i]"
   ]
  },
  {
   "cell_type": "code",
   "execution_count": 63,
   "metadata": {},
   "outputs": [],
   "source": [
    "d = [1 for i in range (P.shape[0])]"
   ]
  },
  {
   "cell_type": "code",
   "execution_count": 66,
   "metadata": {},
   "outputs": [
    {
     "name": "stdout",
     "output_type": "stream",
     "text": [
      "Chu ky cua trang thai 0 la 0\n",
      "\n",
      "Chu ky cua trang thai 1 la 1\n",
      "\n",
      "Chu ky cua trang thai 2 la 2\n",
      "\n",
      "Chu ky cua trang thai 3 la 2\n",
      "\n",
      "Chu ky cua trang thai 4 la 1\n",
      "\n"
     ]
    }
   ],
   "source": [
    "for i in range (P.shape[0]):\n",
    "    d[i] = T(Q, i, d)\n",
    "    print(f\"Chu ky cua trang thai {i} la {d[i]}\\n\")\n",
    "d = [1 for i in range (P.shape[0])]"
   ]
  }
 ],
 "metadata": {
  "kernelspec": {
   "display_name": "Python3_10_10",
   "language": "python",
   "name": "python3"
  },
  "language_info": {
   "codemirror_mode": {
    "name": "ipython",
    "version": 3
   },
   "file_extension": ".py",
   "mimetype": "text/x-python",
   "name": "python",
   "nbconvert_exporter": "python",
   "pygments_lexer": "ipython3",
   "version": "3.10.10"
  },
  "orig_nbformat": 4
 },
 "nbformat": 4,
 "nbformat_minor": 2
}
